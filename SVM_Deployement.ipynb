{
 "cells": [
  {
   "cell_type": "code",
   "execution_count": 1,
   "id": "1f693f0a-3a6c-49b2-88d1-40c00551ee49",
   "metadata": {},
   "outputs": [],
   "source": [
    "import pickle"
   ]
  },
  {
   "cell_type": "code",
   "execution_count": 2,
   "id": "26dee206-2f19-45b0-96c3-00a275873b40",
   "metadata": {},
   "outputs": [],
   "source": [
    "loaded_model=pickle.load(open(\"finalised_model_SVM.sav\",'rb'))"
   ]
  },
  {
   "cell_type": "code",
   "execution_count": 3,
   "id": "d3a99fb2-9966-4411-9de4-7e2574b979e2",
   "metadata": {},
   "outputs": [],
   "source": [
    "result=loaded_model.predict([[12,13,14,15,56]])"
   ]
  },
  {
   "cell_type": "code",
   "execution_count": 4,
   "id": "f6e63065-6649-4acf-b8d8-3b7fce06202d",
   "metadata": {},
   "outputs": [
    {
     "data": {
      "text/plain": [
       "array([561142.61868237])"
      ]
     },
     "execution_count": 4,
     "metadata": {},
     "output_type": "execute_result"
    }
   ],
   "source": [
    "result"
   ]
  },
  {
   "cell_type": "code",
   "execution_count": null,
   "id": "4dffc56d-d256-493a-a4b2-6daf3aed8928",
   "metadata": {},
   "outputs": [],
   "source": []
  }
 ],
 "metadata": {
  "kernelspec": {
   "display_name": "Python 3 (ipykernel)",
   "language": "python",
   "name": "python3"
  },
  "language_info": {
   "codemirror_mode": {
    "name": "ipython",
    "version": 3
   },
   "file_extension": ".py",
   "mimetype": "text/x-python",
   "name": "python",
   "nbconvert_exporter": "python",
   "pygments_lexer": "ipython3",
   "version": "3.12.4"
  }
 },
 "nbformat": 4,
 "nbformat_minor": 5
}
